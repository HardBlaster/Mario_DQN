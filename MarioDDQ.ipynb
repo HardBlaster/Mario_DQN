{
 "cells": [
  {
   "cell_type": "code",
   "execution_count": null,
   "id": "a81c7ded-e047-42f4-ba24-4ebb630b5c7b",
   "metadata": {},
   "outputs": [],
   "source": [
    "import gym\n",
    "import torch\n",
    "import numpy as np\n",
    "import gym_super_mario_bros\n",
    "import random, datetime, os, copy\n",
    "\n",
    "from torch import nn\n",
    "from torchvision import transforms as T\n",
    "from PIL import Image\n",
    "from pathlib import Path\n",
    "from collections import deque\n",
    "from gym.spaces import Box\n",
    "from gym.wrappers import FrameStack, Monitor\n",
    "from gym_wrappers import SkipFrame, GrayScaleObs, ResizeObs\n",
    "from nes_py.wrappers import JoypadSpace\n",
    "from actor import Mario\n",
    "from model import DDQN\n",
    "from logger import MetricLogger"
   ]
  },
  {
   "cell_type": "code",
   "execution_count": null,
   "id": "5f564b97-7d7d-455f-91e3-61efb6dad374",
   "metadata": {},
   "outputs": [],
   "source": [
    "env = gym_super_mario_bros.make(\"SuperMarioBros-1-1-v3\")\n",
    "env = JoypadSpace(env, [[\"right\"], [\"right\", \"A\"]])\n",
    "\n",
    "env = SkipFrame(env, skip=4)\n",
    "env = GrayScaleObs(env)\n",
    "env = ResizeObs(env, shape=84)\n",
    "env = FrameStack(env, num_stack=4)"
   ]
  },
  {
   "cell_type": "code",
   "execution_count": null,
   "id": "217c66e9-988d-4aaf-bd48-cec6e6b09801",
   "metadata": {},
   "outputs": [],
   "source": [
    "env = Monitor(env, \"./gym-results\", force=True)"
   ]
  },
  {
   "cell_type": "code",
   "execution_count": null,
   "id": "79e19e7e-7b34-49be-aebd-a8fb11b3414a",
   "metadata": {},
   "outputs": [],
   "source": [
    "!cp checkpoints/2022-02-22T08-25-58/mario_net_18.chkpt model.chkpt"
   ]
  },
  {
   "cell_type": "code",
   "execution_count": null,
   "id": "d41b4429-39bd-4604-a8ef-788b15d42b2a",
   "metadata": {},
   "outputs": [],
   "source": [
    "chekpoint = torch.load(\"checkpoints/2022-02-22T08-25-58/mario_net_18.chkpt\")\n",
    "state_dict = chekpoint['model']\n",
    "expl_rate = chekpoint['exploration_rate']\n",
    "\n",
    "model = DDQN((4, 84, 84), env.action_space.n)\n",
    "model.load_state_dict(state_dict)\n",
    "model.exploration_rate = expl_rate\n",
    "model = model.to(device='cuda')\n",
    "\n",
    "for e in range(10):\n",
    "    state = env.reset()\n",
    "\n",
    "    # Play the game!\n",
    "    while True:\n",
    "        state = torch.tensor(state.__array__()).unsqueeze(0).cuda()\n",
    "        action = torch.argmax(model(state)).item()\n",
    "\n",
    "        next_state, reward, done, info = env.step(action)\n",
    "        state = next_state\n",
    "        env.render()\n",
    "\n",
    "        # Check if end of game\n",
    "        if done or info[\"flag_get\"]:\n",
    "            break\n",
    "            \n",
    "env.close()"
   ]
  },
  {
   "cell_type": "code",
   "execution_count": null,
   "id": "33ee5176-5ab1-4ca6-8be0-eabcdb11b2ba",
   "metadata": {},
   "outputs": [],
   "source": [
    "model = DDQN((4, 84, 84), env.action_space.n)"
   ]
  },
  {
   "cell_type": "code",
   "execution_count": null,
   "id": "f08b9384-63b6-4591-82ae-029ec532baaf",
   "metadata": {},
   "outputs": [],
   "source": [
    "save_dir = Path(\"checkpoints\") / datetime.datetime.now().strftime(\"%Y-%m-%dT%H-%M-%S\")\n",
    "save_dir.mkdir(parents=True)\n",
    "\n",
    "mario = Mario(model, env.action_space.n, save_dir)\n",
    "\n",
    "logger = MetricLogger(save_dir)\n",
    "\n",
    "episodes = 80_000\n",
    "for e in range(episodes):\n",
    "    state = env.reset()\n",
    "\n",
    "    # Play the game!\n",
    "    while True:\n",
    "\n",
    "        # Run agent on the state\n",
    "        action = mario.act(state)\n",
    "\n",
    "        # Agent performs action\n",
    "        next_state, reward, done, info = env.step(action)\n",
    "\n",
    "        # Remember\n",
    "        mario.cache(state, next_state, action, reward, done)\n",
    "\n",
    "        # Learn\n",
    "        q, loss = mario.learn()\n",
    "\n",
    "        # Logging\n",
    "        logger.log_step(reward, loss, q)\n",
    "\n",
    "        # Update state\n",
    "        state = next_state\n",
    "\n",
    "        # Check if end of game\n",
    "        if done or info[\"flag_get\"]:\n",
    "            break\n",
    "\n",
    "    logger.log_episode()\n",
    "\n",
    "    if e % 20 == 0:\n",
    "        logger.record(episode=e+1, epsilon=mario.exploration_rate, step=mario.current_step)"
   ]
  },
  {
   "cell_type": "code",
   "execution_count": null,
   "id": "db0710ec-fb7a-41e0-8e6c-20a551ce906c",
   "metadata": {},
   "outputs": [],
   "source": [
    "import time\n",
    "\n",
    "time.sleep(180*60)"
   ]
  },
  {
   "cell_type": "code",
   "execution_count": null,
   "id": "de24f6a4-5664-4a19-9904-8664195a3687",
   "metadata": {},
   "outputs": [],
   "source": [
    "!python3 train.py"
   ]
  },
  {
   "cell_type": "code",
   "execution_count": null,
   "id": "b84b87f6-6ee8-48e3-90ea-2a1a3152dd96",
   "metadata": {},
   "outputs": [],
   "source": []
  }
 ],
 "metadata": {
  "kernelspec": {
   "display_name": "Python 3 (ipykernel)",
   "language": "python",
   "name": "python3"
  },
  "language_info": {
   "codemirror_mode": {
    "name": "ipython",
    "version": 3
   },
   "file_extension": ".py",
   "mimetype": "text/x-python",
   "name": "python",
   "nbconvert_exporter": "python",
   "pygments_lexer": "ipython3",
   "version": "3.7.10"
  }
 },
 "nbformat": 4,
 "nbformat_minor": 5
}
